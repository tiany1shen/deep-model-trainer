{
 "cells": [
  {
   "attachments": {},
   "cell_type": "markdown",
   "metadata": {},
   "source": [
    "# 使用DMT训练框架\n",
    "\n",
    "通过以下4步，使用DMT框架训练并使用你自己的深度学习模型：\n",
    "1. 定义数据集\n",
    "2. 定义模型\n",
    "3. 重写训练器和测试方法\n",
    "4. 编写配置文件"
   ]
  },
  {
   "cell_type": "code",
   "execution_count": null,
   "metadata": {},
   "outputs": [],
   "source": [
    "import torch\n",
    "from torch import nn\n",
    "from torch.nn import functional as F\n",
    "from easydict import EasyDict\n",
    "from torch.utils.data import Dataset\n",
    "\n",
    "from src.trainers import Trainer"
   ]
  },
  {
   "attachments": {},
   "cell_type": "markdown",
   "metadata": {},
   "source": [
    "## 1. 定义数据集\n",
    "\n",
    "DMT框架使用`torch.utils.data.Dataset`作为数据集的基类，唯一的限制是你只能通过传入一个`EasyDict`实例`config`参数来实例化数据集。\n",
    "\n",
    "例如在`example`中，我们合成一个0到1之间的二维数据集`exampleDataset`来并完成在其上的分类任务。下面是一个简化版本：\n",
    "- label = 0 if x > 0.5 and y > 0.5\n",
    "- label = 1 if $x^2 + y^2 < 0.5$\n",
    "- label = 2 otherwise"
   ]
  },
  {
   "cell_type": "code",
   "execution_count": null,
   "metadata": {},
   "outputs": [],
   "source": [
    "class ExampleDataset(Dataset):\n",
    "    def __init__(self, args: EasyDict):\n",
    "        self.num_classes = 3\n",
    "        assert hasattr(args, 'size'), \"size should be specified when data_path is not specified\"\n",
    "        self.size = args.size\n",
    "        seed = args.seed if hasattr(args, 'seed') else None \n",
    "        self.data = self._generate_data(seed)\n",
    "        self.label = self._calculate_label()\n",
    "    \n",
    "    def __len__(self):\n",
    "        return self.size\n",
    "    \n",
    "    def __getitem__(self, idx: int):\n",
    "        return self.data[idx], self.label[idx]\n",
    "    \n",
    "    def _generate_data(self, seed: int = None):\n",
    "        if seed is not None:\n",
    "            torch.manual_seed(seed)\n",
    "        return torch.rand(self.size, 2)\n",
    "    \n",
    "    def _calculate_label(self):\n",
    "        label_0 = ((self.data[:, 0] > 0.5) & (self.data[:, 1] > 0.5)).long()\n",
    "        label_1 = (self.data[:, 0] ** 2 + self.data[:, 1] ** 2 < 0.5).long()\n",
    "        return 2 - 2 * label_0 - label_1"
   ]
  },
  {
   "attachments": {},
   "cell_type": "markdown",
   "metadata": {},
   "source": [
    "数据集可视化："
   ]
  },
  {
   "cell_type": "code",
   "execution_count": null,
   "metadata": {},
   "outputs": [],
   "source": [
    "%matplotlib inline\n",
    "import matplotlib.pyplot as plt\n",
    "\n",
    "dataset = ExampleDataset(EasyDict(size=1000, seed=42))\n",
    "\n",
    "cmap = {0: \"r\", 1: \"g\", 2: \"b\"}\n",
    "fig, ax = plt.subplots()\n",
    "data, label = dataset[:]\n",
    "x = data[:, 0].clone()\n",
    "y = data[:, 1].clone()\n",
    "label = label.clone().tolist()\n",
    "ax.scatter(x, y, c=[cmap[l] for l in label], marker=\".\")\n",
    "plt.show()"
   ]
  },
  {
   "attachments": {},
   "cell_type": "markdown",
   "metadata": {},
   "source": [
    "## 2. 定义模型\n",
    "\n",
    "DMT框架使用`torch.nn.Module`作为模型的基类，同样的，你只能通过传入一个`EasyDict`实例`config`参数来实例化模型。\n",
    "\n",
    "我们使用一个简单的mlp来完成这个分类任务："
   ]
  },
  {
   "cell_type": "code",
   "execution_count": null,
   "metadata": {},
   "outputs": [],
   "source": [
    "class MLP(nn.Module):\n",
    "    def __init__(self, config: EasyDict):\n",
    "        super().__init__()\n",
    "        hidden_size = config.hidden_size\n",
    "        self.fc1 = nn.Linear(2, hidden_size)\n",
    "        self.fc2 = nn.Linear(hidden_size, 3)\n",
    "    \n",
    "    def forward(self, x):\n",
    "        x = self.fc1(x)\n",
    "        x = F.relu(x)\n",
    "        x = self.fc2(x)\n",
    "        return x"
   ]
  },
  {
   "attachments": {},
   "cell_type": "markdown",
   "metadata": {},
   "source": [
    "## 3. 重写训练器和测试方法\n",
    "\n",
    "DMT框架使用自定义的`Trainer`作为训练器的基类，在使用之前，你需要继承`Trainer`并重写`_compute_loss`方法。\n",
    "\n",
    "至此训练模型的准备工作已经完成，但是为了监控训练过程中其他指标（如测试指标）则需要重写`_eval_epoch`方法，从而达到在训练过程中进行评估的目的。"
   ]
  },
  {
   "cell_type": "code",
   "execution_count": null,
   "metadata": {},
   "outputs": [],
   "source": [
    "class ExampleTrainer(Trainer):\n",
    "    def __init__(self, config: EasyDict):\n",
    "        super().__init__(config)\n",
    "\n",
    "    def _compute_loss(self, inputs, targets):\n",
    "        outputs = self.model(inputs)\n",
    "        return F.cross_entropy(outputs, targets)\n",
    "    \n",
    "    def _eval_epoch(self, epoch):\n",
    "        pass #* calculate accuracy on evaluation dataset"
   ]
  },
  {
   "attachments": {},
   "cell_type": "markdown",
   "metadata": {},
   "source": [
    "## 4. 编写配置文件\n",
    "\n",
    "DMT框架使用 *.yml* 文件对实验进行配置，配置文件分为7个部分：\n",
    "1. 实验信息：包括名称、os、gpu等信息\n",
    "2. 模型参数\n",
    "3. 数据集参数\n",
    "4. 训练过程参数：包括优化器、学习率、训练轮数等\n",
    "5. 评估过程参数：包括评估批大小等\n",
    "6. 采样过程参数\n",
    "7. 其他参数\n",
    "\n",
    "具体可参考`base_config.yml`文件。"
   ]
  },
  {
   "attachments": {},
   "cell_type": "markdown",
   "metadata": {},
   "source": [
    "# 启动DMT框架\n",
    "\n",
    "以上步骤中的具体代码实现均为简化版本，完整代码可参考`src_example`文件夹中的内容。下面我们给出使用DMT框架训练模型的CMD命令："
   ]
  },
  {
   "cell_type": "code",
   "execution_count": null,
   "metadata": {},
   "outputs": [],
   "source": [
    "!python src_example/main.py --config example --train"
   ]
  },
  {
   "attachments": {},
   "cell_type": "markdown",
   "metadata": {},
   "source": [
    "multi-gpu evaluate"
   ]
  },
  {
   "cell_type": "code",
   "execution_count": null,
   "metadata": {},
   "outputs": [],
   "source": [
    "!CUDA_VISIBLE_DEVICES=\"0,1\" accelerate launch --num_processes=2 src_example/main.py --config example --eval"
   ]
  },
  {
   "attachments": {},
   "cell_type": "markdown",
   "metadata": {},
   "source": [
    "Tensorboard 可视化训练过程"
   ]
  },
  {
   "cell_type": "code",
   "execution_count": null,
   "metadata": {},
   "outputs": [],
   "source": [
    "!tensorboard --logdir experiments/MLP-ExampleDataset/logs --port=8008"
   ]
  }
 ],
 "metadata": {
  "kernelspec": {
   "display_name": "dance",
   "language": "python",
   "name": "python3"
  },
  "language_info": {
   "codemirror_mode": {
    "name": "ipython",
    "version": 3
   },
   "file_extension": ".py",
   "mimetype": "text/x-python",
   "name": "python",
   "nbconvert_exporter": "python",
   "pygments_lexer": "ipython3",
   "version": "3.9.16"
  },
  "orig_nbformat": 4
 },
 "nbformat": 4,
 "nbformat_minor": 2
}
