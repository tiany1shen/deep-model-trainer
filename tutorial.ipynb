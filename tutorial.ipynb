{
 "cells": [
  {
   "attachments": {},
   "cell_type": "markdown",
   "metadata": {},
   "source": [
    "# 使用DMT训练框架\n",
    "\n",
    "通过以下4步，使用DMT框架训练并使用你自己的深度学习模型：\n",
    "1. 定义数据集\n",
    "2. 定义模型\n",
    "3. 重写训练器和测试方法\n",
    "4. 编写配置文件"
   ]
  },
  {
   "attachments": {},
   "cell_type": "markdown",
   "metadata": {},
   "source": [
    "## 1. 定义数据集\n",
    "\n",
    "DMT 框架使用 `torch.utils.data.Dataset` 作为数据集的基类，唯一的限制是你只能通过传入一个 `EasyDict` 实例 `args` 参数来实例化数据集。\n",
    "\n",
    "例如在 `src_classify` 中，我们使用一个封装好的 MNIST 数据集，它带有两个自定义方法 `transforms` 和 `inv_transforms` 对数据进行归一化和逆归一化。"
   ]
  },
  {
   "cell_type": "code",
   "execution_count": 13,
   "metadata": {},
   "outputs": [
    {
     "data": {
      "text/plain": [
       "Text(0.5, 1.0, 'Label: 8')"
      ]
     },
     "execution_count": 13,
     "metadata": {},
     "output_type": "execute_result"
    },
    {
     "data": {
      "image/png": "[encoded data removed]",
      "text/plain": [
       "<Figure size 640x480 with 1 Axes>"
      ]
     },
     "metadata": {},
     "output_type": "display_data"
    }
   ],
   "source": [
    "from easydict import EasyDict\n",
    "from src_classify.datasets import MNIST\n",
    "\n",
    "args_data = EasyDict(dict(root = \"data\", train = True))\n",
    "ds = MNIST(args_data)\n",
    "\n",
    "import random\n",
    "index = random.randint(0, len(ds))\n",
    "img, label = ds.inv_transforms()(ds[index][0]), ds[index][1]\n",
    "\n",
    "import matplotlib.pyplot as plt\n",
    "plt.imshow(img.squeeze(), cmap = \"gray\")\n",
    "plt.title(f\"Label: {label}\")\n"
   ]
  },
  {
   "attachments": {},
   "cell_type": "markdown",
   "metadata": {},
   "source": [
    "## 2. 定义模型\n",
    "\n",
    "DMT 框架使用 `torch.nn.Module` 作为模型的基类，同样的，你只能通过传入一个 `EasyDict` 实例 `args` 参数来实例化模型。\n",
    "\n",
    "例如在 `src_classify` 中，我们使用一个封装好的 ResNet 模型。它带有两个自定义方法 `compute_loss` 和 `predict` 分别用来在训练阶段计算损失函数和在测试阶段进行预测。"
   ]
  },
  {
   "cell_type": "code",
   "execution_count": null,
   "metadata": {},
   "outputs": [],
   "source": [
    "from src_classify.models import ResnetModel\n",
    "\n",
    "args_model = EasyDict(dict(\n",
    "    input=1, output=10, hidden_dims=[32, 64, 128]\n",
    "))\n",
    "model = ResnetModel(args_model)"
   ]
  },
  {
   "attachments": {},
   "cell_type": "markdown",
   "metadata": {},
   "source": [
    "## 3. 重写训练器和测试方法\n",
    "\n",
    "DMT框架使用自定义的 `Trainer` 作为训练器的基类，你需要继承它编写自己的训练器，并重写以下方法：\n",
    "\n",
    "训练模型：\n",
    "- 必须重写的方法：\n",
    "  - `_compute_loss`：计算损失函数，返回两个字典分别记录损失函数的值和相应的权值超参数\n",
    "- 按需求重写的方法：\n",
    "  - `_eval_epoch`：在训练过程中计算测试指标的方法\n",
    "  - `_sample_epoch`：在训练过程中生成新样本的方法\n",
    "\n",
    "测试模型：\n",
    "- 必须重写的方法：\n",
    "  - `eval`: 在测试模式下需要重写，用来计算测试集上的指标\n",
    "  - `sample`：在采样模式下需要重写，用来生成新样本\n",
    "\n",
    "例如在 `src_classify` 中，我们使用 `ClassifyTrainer` 作为训练器。"
   ]
  },
  {
   "attachments": {},
   "cell_type": "markdown",
   "metadata": {},
   "source": [
    "## 4. 编写配置文件\n",
    "\n",
    "DMT框架使用 *.yml* 文件对实验进行配置，配置文件分为7个部分：\n",
    "1. 实验信息：包括名称、os、gpu等信息\n",
    "2. 模型参数\n",
    "3. 数据集参数\n",
    "4. 训练过程参数：包括优化器、学习率、训练轮数等\n",
    "5. 评估过程参数：包括评估批大小等\n",
    "6. 采样过程参数\n",
    "7. 其他参数\n",
    "\n",
    "具体可参考`base_config.yml`文件。"
   ]
  },
  {
   "attachments": {},
   "cell_type": "markdown",
   "metadata": {},
   "source": [
    "# 例子：使用ResNet对MNIST数据集进行手写数字分类"
   ]
  },
  {
   "attachments": {},
   "cell_type": "markdown",
   "metadata": {},
   "source": [
    "代码目录：`./src_classify`\n",
    "\n",
    "- 工作目录: \n",
    "    ```bash\n",
    "    $ pwd\n",
    "    ~/deep-model-trainer\n",
    "    ```\n",
    "- 训练模型\n",
    "    ```bash\n",
    "    $ python src_classify/main.py --config resnet --train\n",
    "    ```\n",
    "- 断点继续训练\n",
    "    ```bash\n",
    "    $ python src_classify/main.py --config resnet --new_config resume --train \n",
    "    ```\n",
    "- tensorboard monitor\n",
    "    ```bash\n",
    "    $ tensorboard --logdir experiments/MNIST-Classification/logs\n",
    "    ```"
   ]
  },
  {
   "attachments": {},
   "cell_type": "markdown",
   "metadata": {},
   "source": [
    "# 例子：使用VQ-VAE对MNIST数据集进行手写数字生成"
   ]
  },
  {
   "attachments": {},
   "cell_type": "markdown",
   "metadata": {},
   "source": [
    "代码目录：`./src_generate`\n",
    "\n",
    "- 工作目录: \n",
    "    ```bash\n",
    "    $ pwd\n",
    "    ~/deep-model-trainer\n",
    "    ```\n",
    "- 训练VQVAE模型\n",
    "    ```bash\n",
    "    $ python src_generate/main.py --config vqvae --train\n",
    "    ```\n",
    "- 训练GPTPrior模型 *需要10G显存*\n",
    "    ```bash\n",
    "    $ python src_generate/main.py --config prior --train \n",
    "    ```\n",
    "- 从训练好的模型中采样\n",
    "    ```bash\n",
    "    $ python src_generate/main.py --config prior --new_config sample --eval\n",
    "    ```\n",
    "- tensorboard monitor\n",
    "    ```bash\n",
    "    $ tensorboard --logdir experiments/MNIST-Generate/logs"
   ]
  },
  {
   "attachments": {},
   "cell_type": "markdown",
   "metadata": {},
   "source": [
    "multi-gpu evaluate"
   ]
  },
  {
   "cell_type": "code",
   "execution_count": null,
   "metadata": {},
   "outputs": [],
   "source": [
    "!CUDA_VISIBLE_DEVICES=\"0,1\" accelerate launch --num_processes=2 src_example/main.py --config example --eval"
   ]
  },
  {
   "attachments": {},
   "cell_type": "markdown",
   "metadata": {},
   "source": [
    "sample"
   ]
  },
  {
   "cell_type": "code",
   "execution_count": null,
   "metadata": {},
   "outputs": [],
   "source": [
    "!CUDA_VISIBLE_DEVICES=\"0,1\" accelerate launch --num_processes=2 src_example/main.py --config example --sample"
   ]
  },
  {
   "attachments": {},
   "cell_type": "markdown",
   "metadata": {},
   "source": [
    "Tensorboard 可视化训练过程"
   ]
  },
  {
   "cell_type": "code",
   "execution_count": null,
   "metadata": {},
   "outputs": [],
   "source": [
    "!tensorboard --logdir experiments/MLP-ExampleDataset/logs --port=8008"
   ]
  }
 ],
 "metadata": {
  "kernelspec": {
   "display_name": "dance",
   "language": "python",
   "name": "python3"
  },
  "language_info": {
   "codemirror_mode": {
    "name": "ipython",
    "version": 3
   },
   "file_extension": ".py",
   "mimetype": "text/x-python",
   "name": "python",
   "nbconvert_exporter": "python",
   "pygments_lexer": "ipython3",
   "version": "3.9.16"
  },
  "orig_nbformat": 4
 },
 "nbformat": 4,
 "nbformat_minor": 2
}
