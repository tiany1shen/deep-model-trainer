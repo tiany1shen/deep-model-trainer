{
 "cells": [
  {
   "cell_type": "code",
   "execution_count": 5,
   "metadata": {},
   "outputs": [],
   "source": [
    "from datasets.mnist import MNIST\n",
    "from easydict import EasyDict \n",
    "\n",
    "args = EasyDict(dict(\n",
    "    root = '../data',\n",
    "    train = True \n",
    "))\n",
    "\n",
    "ds = MNIST(args)"
   ]
  },
  {
   "cell_type": "code",
   "execution_count": 21,
   "metadata": {},
   "outputs": [
    {
     "data": {
      "text/plain": [
       "<All keys matched successfully>"
      ]
     },
     "execution_count": 21,
     "metadata": {},
     "output_type": "execute_result"
    }
   ],
   "source": [
    "from models.resnet import Resnet\n",
    "from pprint import pprint\n",
    "import torch\n",
    "\n",
    "model = Resnet(1, 10, [32, 64, 128])\n",
    "\n",
    "with open(\"/scratch/shenty/deep-model-trainer/experiments/MNIST-Classification/trial-3/checkpoints/epoch-10.pth\", \"rb\") as f:\n",
    "    ckpt = torch.load(f, map_location=\"cpu\")\n",
    "    \n",
    "model.load_state_dict(ckpt[\"model\"])"
   ]
  },
  {
   "cell_type": "code",
   "execution_count": 27,
   "metadata": {},
   "outputs": [
    {
     "data": {
      "text/plain": [
       "tensor([0.0160, 0.0436, 0.0408, 0.0543, 0.0663, 0.0626, 0.0376, 0.1639, 0.0239,\n",
       "        0.0334, 0.0303, 0.0265, 0.0114, 0.0214, 0.0374, 0.0861, 0.0166, 0.0095,\n",
       "        0.0178, 0.0209, 0.0314, 0.0907, 0.0263, 0.0235, 0.0152, 0.0423, 0.0842,\n",
       "        0.1169, 0.0149, 0.0203, 0.0287, 0.0190])"
      ]
     },
     "execution_count": 27,
     "metadata": {},
     "output_type": "execute_result"
    }
   ],
   "source": []
  }
 ],
 "metadata": {
  "kernelspec": {
   "display_name": "MoGen",
   "language": "python",
   "name": "python3"
  },
  "language_info": {
   "codemirror_mode": {
    "name": "ipython",
    "version": 3
   },
   "file_extension": ".py",
   "mimetype": "text/x-python",
   "name": "python",
   "nbconvert_exporter": "python",
   "pygments_lexer": "ipython3",
   "version": "3.9.16"
  },
  "orig_nbformat": 4
 },
 "nbformat": 4,
 "nbformat_minor": 2
}
